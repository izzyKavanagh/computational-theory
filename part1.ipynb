{
 "cells": [
  {
   "cell_type": "markdown",
   "id": "49f6257c",
   "metadata": {},
   "source": [
    "## Computational Theory Assessment"
   ]
  },
  {
   "cell_type": "code",
   "execution_count": 3,
   "id": "0490cf38",
   "metadata": {},
   "outputs": [],
   "source": [
    "import numpy as np"
   ]
  },
  {
   "cell_type": "markdown",
   "id": "2d1a5511",
   "metadata": {},
   "source": [
    "## Problem 1: Binary Words and Operations"
   ]
  },
  {
   "cell_type": "markdown",
   "id": "cb55c814",
   "metadata": {},
   "source": [
    "##### Implement the following functions in Python. Use numpy to ensure that all variables and values are treated as 32-bit integers. These functions are defined in the Secure Hash Standard (see page 10).\n",
    "##### Document each function with a clear docstring, explain its purpose and behaviour in Markdown, and test it with appropriate examples to verify correctness."
   ]
  },
  {
   "cell_type": "code",
   "execution_count": 4,
   "id": "1f1131c1",
   "metadata": {},
   "outputs": [
    {
     "name": "stdout",
     "output_type": "stream",
     "text": [
      "     u: 00001100\n",
      "     v: 00001010\n",
      "-----------------\n",
      " u ^ v: 00000110\n"
     ]
    }
   ],
   "source": [
    "# Decimal 12.\n",
    "u = 0b1100\n",
    "\n",
    "# Decimal 10.\n",
    "v = 0b1010\n",
    "\n",
    "print(f'     u: {u:08b}')\n",
    "\n",
    "# Print b using f-strings.\n",
    "print(f'     v: {v:08b}')\n",
    "\n",
    "# Print a line.\n",
    "print('-' * 17)\n",
    "\n",
    "# Print (u ^ v) using f-strings.\n",
    "print(f' u ^ v: {(u ^ v):08b}')"
   ]
  },
  {
   "cell_type": "markdown",
   "id": "32311741",
   "metadata": {},
   "source": [
    "## Problem 2: Fractional Parts of Cube Roots"
   ]
  },
  {
   "cell_type": "markdown",
   "id": "f40eb69f",
   "metadata": {},
   "source": [
    "## Problem 3: Padding"
   ]
  },
  {
   "cell_type": "markdown",
   "id": "7bc745c1",
   "metadata": {},
   "source": [
    "## Problem 4: Hashes"
   ]
  },
  {
   "cell_type": "markdown",
   "id": "f12d4325",
   "metadata": {},
   "source": [
    "## Problem 5: Passwords"
   ]
  }
 ],
 "metadata": {
  "kernelspec": {
   "display_name": "Python 3",
   "language": "python",
   "name": "python3"
  },
  "language_info": {
   "codemirror_mode": {
    "name": "ipython",
    "version": 3
   },
   "file_extension": ".py",
   "mimetype": "text/x-python",
   "name": "python",
   "nbconvert_exporter": "python",
   "pygments_lexer": "ipython3",
   "version": "3.12.1"
  }
 },
 "nbformat": 4,
 "nbformat_minor": 5
}
